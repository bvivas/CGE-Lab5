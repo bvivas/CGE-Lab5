{
 "cells": [
  {
   "cell_type": "markdown",
   "id": "b01cf3fd",
   "metadata": {},
   "source": [
    "# Computación a Gran Escala\n",
    "**Máster Universitario en Ingeniería Informática (MUII) - Curso 2022/2023**"
   ]
  },
  {
   "cell_type": "markdown",
   "id": "64ae1688",
   "metadata": {},
   "source": [
    "## Lab 5: Introducción a Spark"
   ]
  },
  {
   "cell_type": "markdown",
   "id": "446a41ff",
   "metadata": {},
   "source": [
    "**Autores:**  \n",
    "Miguel García González - miguel.garcia02@estudiante.uam.es  \n",
    "Belén Vivas García - belen.vivas@estudiante.uam.es"
   ]
  },
  {
   "cell_type": "code",
   "execution_count": 1,
   "id": "e46b1cc1",
   "metadata": {},
   "outputs": [],
   "source": [
    "import pyspark\n",
    "import numpy as np"
   ]
  },
  {
   "cell_type": "code",
   "execution_count": 2,
   "id": "77426fed",
   "metadata": {},
   "outputs": [],
   "source": [
    "# Rutas de datos\n",
    "PHONES_ACCELEROMETER_PATH = 'data/datos_sensores/activity_recognition_exp/Phones_accelerometer.csv'\n",
    "PHONES_GYROSCOPE_PATH = 'data/datos_sensores/activity_recognition_exp/Phones_gyroscope.csv'\n",
    "WATCH_ACCELEROMETER_PATH = 'data/datos_sensores/activity_recognition_exp/Watch_accelerometer.csv'\n",
    "WATCH_GYRSOCOPE_PATH = 'data/datos_sensores/activity_recognition_exp/Watch_gyroscope.csv'"
   ]
  },
  {
   "cell_type": "markdown",
   "id": "3116b1b4",
   "metadata": {},
   "source": [
    "### Inicialización de PySpark"
   ]
  },
  {
   "cell_type": "code",
   "execution_count": 3,
   "id": "889e0d4e",
   "metadata": {},
   "outputs": [
    {
     "name": "stderr",
     "output_type": "stream",
     "text": [
      "/home/belen/spark/venv/spark/lib/python3.6/site-packages/pyspark/context.py:238: FutureWarning: Python 3.6 support is deprecated in Spark 3.2.\n",
      "  FutureWarning\n"
     ]
    },
    {
     "data": {
      "text/html": [
       "\n",
       "        <div>\n",
       "            <p><b>SparkContext</b></p>\n",
       "\n",
       "            <p><a href=\"http://belen-linux:4040\">Spark UI</a></p>\n",
       "\n",
       "            <dl>\n",
       "              <dt>Version</dt>\n",
       "                <dd><code>v3.2.3</code></dd>\n",
       "              <dt>Master</dt>\n",
       "                <dd><code>local[*]</code></dd>\n",
       "              <dt>AppName</dt>\n",
       "                <dd><code>pyspark-shell</code></dd>\n",
       "            </dl>\n",
       "        </div>\n",
       "        "
      ],
      "text/plain": [
       "<SparkContext master=local[*] appName=pyspark-shell>"
      ]
     },
     "execution_count": 3,
     "metadata": {},
     "output_type": "execute_result"
    }
   ],
   "source": [
    "sc = pyspark.SparkContext()\n",
    "sc"
   ]
  },
  {
   "cell_type": "markdown",
   "id": "a263f4f0",
   "metadata": {},
   "source": [
    "### Funciones para gestionar RDD"
   ]
  },
  {
   "cell_type": "markdown",
   "id": "9793745f",
   "metadata": {},
   "source": [
    "Esta lista de funciones nos servirán para crear, transformar y calcular los RDD."
   ]
  },
  {
   "cell_type": "code",
   "execution_count": 4,
   "id": "b1a3fa15",
   "metadata": {},
   "outputs": [],
   "source": [
    "\"\"\"\n",
    "Function: create_RDD\n",
    "\n",
    "Params:\n",
    "    - filename: nombre del fichero\n",
    "    \n",
    "Return:\n",
    "    RDD creado a partir del fichero de entrada\n",
    "\n",
    "Esta función crea el RDD a partir del fichero CSV proporcionado\n",
    "\"\"\"\n",
    "def create_RDD(filename):\n",
    "    \n",
    "    rdd = sc.textFile(filename).map(lambda e: e.split(','))\n",
    "\n",
    "    return rdd\n",
    "\n",
    "\n",
    "\"\"\"\n",
    "Function: process_RDD\n",
    "\n",
    "Params:\n",
    "    - rdd: RDD a procesar\n",
    "    \n",
    "Return:\n",
    "    RDD procesado después de aplicar las transformaciones y realizar los cálculos necesarios\n",
    "\n",
    "Esta función recibe el RDD creado y lo transforma de la siguiente manera:\n",
    "1. Se queda con las columnas que necesitamos: [(User, Model, GT), x, y, z].\n",
    "2. Realiza los cálculos de x, y y z de forma separada, en diferentes RDD.\n",
    "3. Une los resultados de las tres variables y los reordena correctamente.\n",
    "\"\"\"\n",
    "def process_RDD(rdd):\n",
    "    \n",
    "    # Nos quedamos con las columnas que nos interesan\n",
    "    rdd_reduced = rdd.map(lambda e: ((e[6], e[7], e[9]), float(e[3]), float(e[4]), float(e[5])))\n",
    "    \n",
    "    # Agrupamos las x y hacemos los calculos\n",
    "    rdd_x = rdd_reduced.map(lambda e: (e[0], e[1]))\n",
    "    rdd_x_processed = calculate_RDD(rdd_x)\n",
    "    \n",
    "    # Agrupamos las y y hacemos los calculos\n",
    "    rdd_y = rdd_reduced.map(lambda e: (e[0], e[2]))\n",
    "    rdd_y_processed = calculate_RDD(rdd_y)\n",
    "    \n",
    "    # Agrupamos las z y hacemos los calculos\n",
    "    rdd_z = rdd_reduced.map(lambda e: (e[0], e[3]))\n",
    "    rdd_z_processed = calculate_RDD(rdd_z)\n",
    "    \n",
    "    # Unimos las tres variables\n",
    "    rdd_joined = rdd_x_processed.join(rdd_y_processed).join(rdd_z_processed)\n",
    "    rdd_processed = arrange_RDD(rdd_joined)\n",
    "    \n",
    "    return rdd_processed\n",
    "\n",
    "\n",
    "\"\"\"\n",
    "Function: calculate_RDD\n",
    "\n",
    "Params:\n",
    "    - rdd: RDD de x, y o z\n",
    "    \n",
    "Return:\n",
    "    RDD con los cálculos aplicados sobre la variable\n",
    "\n",
    "Esta función recibe un RDD con forma [(User, Model, GT), variable], donde variable\n",
    "es x, y o z, y calcula la media, desviación típica, máximo y mínimo de la variable\n",
    "por cada clave diferente.\n",
    "\"\"\"\n",
    "def calculate_RDD(rdd):\n",
    "    \n",
    "    rdd_grouped = rdd.groupByKey().map(lambda e: (e[0], list(e[1])))\n",
    "    rdd_calculated = rdd_grouped.map(lambda e: (e[0], (np.mean(e[1]), np.std(e[1]), max(e[1]), min(e[1]))))\n",
    "\n",
    "    return rdd_calculated\n",
    "    \n",
    "\n",
    "\"\"\"\n",
    "Function: arrange_RDD\n",
    "\n",
    "Params:\n",
    "    - rdd: RDD a reordenar\n",
    "\n",
    "Return:\n",
    "    RDD reordenado\n",
    "    \n",
    "Esta función reordena el RDD resultante de la función calculate_RDD de la siguiente forma:\n",
    "[(User, Model, GT), (mean(x), mean(y), mean(z), std(x), std(y), std(z),\n",
    "max(x), max(y), max(z), min(x), min(y), min(z))]\n",
    "\"\"\"\n",
    "def arrange_RDD(rdd):\n",
    "    \n",
    "    rdd_arranged = rdd.map(lambda e: (e[0], \n",
    "                                      (e[1][0][0][0], e[1][0][1][0], e[1][1][0], \n",
    "                                       e[1][0][0][1], e[1][0][1][1], e[1][1][1], \n",
    "                                       e[1][0][0][2], e[1][0][1][2], e[1][1][2], \n",
    "                                       e[1][0][0][3], e[1][0][1][3], e[1][1][3])))\n",
    "    \n",
    "    return rdd_arranged\n",
    "\n",
    "\n",
    "\"\"\"\n",
    "Function: join_RDD\n",
    "\n",
    "Params:\n",
    "    - pa_rdd: RDD de Phones Accelerometer\n",
    "    - pg_rdd: RDD de Phones Gyroscope\n",
    "    - wa_rdd: RDD de Watch Accelerometer\n",
    "    - wg_rdd: RDD de Watch Gyroscope\n",
    "\n",
    "Return:\n",
    "    RDD final\n",
    "\n",
    "Esta función une los RDD de Phone por un lado y de Watch por otro mediante join, y los une en\n",
    "un RDD mediante union.\n",
    "\"\"\"\n",
    "def join_RDD(pa_rdd, pg_rdd, wa_rdd, wg_rdd):\n",
    "\n",
    "    # Join de Phones\n",
    "    phone_rdd = pa_rdd.join(pg_rdd)\n",
    "    \n",
    "    # Join de Watch\n",
    "    watch_rdd = wa_rdd.join(wg_rdd)\n",
    "\n",
    "    # Union de Phones y Watch\n",
    "    rdd = phone_rdd.union(watch_rdd)\n",
    "    \n",
    "    return rdd"
   ]
  },
  {
   "cell_type": "markdown",
   "id": "860b67c8",
   "metadata": {},
   "source": [
    "### Lectura de ficheros y creación de RDD"
   ]
  },
  {
   "cell_type": "markdown",
   "id": "73d560d6",
   "metadata": {},
   "source": [
    "En primer lugar, obtenemos los RDD correspondientes a cada uno de los ficheros:  \n",
    "- Phones accelerometer\n",
    "- Phones gyroscope\n",
    "- Watch accelerometer\n",
    "- Watch gyroscope"
   ]
  },
  {
   "cell_type": "code",
   "execution_count": 5,
   "id": "ababb16a",
   "metadata": {},
   "outputs": [],
   "source": [
    "pa_rdd = create_RDD(PHONES_ACCELEROMETER_PATH)\n",
    "pg_rdd = create_RDD(PHONES_GYROSCOPE_PATH)\n",
    "wa_rdd = create_RDD(WATCH_ACCELEROMETER_PATH)\n",
    "wg_rdd = create_RDD(WATCH_GYRSOCOPE_PATH)"
   ]
  },
  {
   "cell_type": "markdown",
   "id": "9355a499",
   "metadata": {},
   "source": [
    "### Procesamiento de RDD"
   ]
  },
  {
   "cell_type": "markdown",
   "id": "b6e22a2a",
   "metadata": {},
   "source": [
    "Una vez creados los RDD, los procesamos para obtener el RDD resultante de extraer de cada uno su clave primaria (User, Model, GT) junto con la media, desviación típica, máximo y mínimo de cada una de sus variables x, y y z."
   ]
  },
  {
   "cell_type": "code",
   "execution_count": 6,
   "id": "9f25f452",
   "metadata": {},
   "outputs": [],
   "source": [
    "# Procesamos los RDD\n",
    "pa_processed = process_RDD(pa_rdd)\n",
    "pg_processed = process_RDD(pg_rdd)\n",
    "wa_processed = process_RDD(wa_rdd)\n",
    "wg_processed = process_RDD(wg_rdd)"
   ]
  },
  {
   "cell_type": "markdown",
   "id": "d067d45b",
   "metadata": {},
   "source": [
    "Como ejemplo, mostramos un resultado de cada uno de los cuatro ficheros con la forma:  \n",
    "(User, Model, GT), (mean(x), mean(y), mean(z), std(x), std(y), std(z), max(x), max(y), max(z), min(x), min(y), min(z))"
   ]
  },
  {
   "cell_type": "markdown",
   "id": "f9a91f12",
   "metadata": {},
   "source": [
    "**Phones accelerometer**"
   ]
  },
  {
   "cell_type": "code",
   "execution_count": 7,
   "id": "338ca717",
   "metadata": {},
   "outputs": [
    {
     "name": "stdout",
     "output_type": "stream",
     "text": [
      "[(('c', 'samsungold', 'null'), (0.23917620702809797, -0.3349388667009023, 8.114421251815715, 5.834342661102344, 1.5177564524227478, 2.0131729101124827, 17.621105, 9.653300999999999, 19.45983, -18.846922, -9.500074, -0.153227))]\n"
     ]
    }
   ],
   "source": [
    "print(pa_processed.take(1))"
   ]
  },
  {
   "cell_type": "markdown",
   "id": "108ff38f",
   "metadata": {},
   "source": [
    "**Phones gyroscope**"
   ]
  },
  {
   "cell_type": "code",
   "execution_count": 8,
   "id": "198c0ea5",
   "metadata": {},
   "outputs": [
    {
     "name": "stdout",
     "output_type": "stream",
     "text": [
      "[(('f', 's3', 'walk'), (0.01842778726676459, -0.012660344126209897, -0.003222167901645703, 0.29382231255328833, 0.2630793962304212, 0.4430401480519867, 1.8900169999999998, 1.5717562, 2.1303926, -1.9104811000000002, -1.1539245, -3.3166927999999998))]\n"
     ]
    }
   ],
   "source": [
    "print(pg_processed.take(1))"
   ]
  },
  {
   "cell_type": "markdown",
   "id": "e1ca0342",
   "metadata": {},
   "source": [
    "**Watch accelerometer**"
   ]
  },
  {
   "cell_type": "code",
   "execution_count": 9,
   "id": "e938fad7",
   "metadata": {},
   "outputs": [
    {
     "name": "stdout",
     "output_type": "stream",
     "text": [
      "[(('c', 'lgwatch', 'null'), (4.92440607109189, -5.1472237238757765, 0.8241633636352657, 5.834276641040468, 3.202149495247256, 3.754576172258605, 19.32988, 11.912689, 19.927063, -19.591232, -19.7034, -19.274078))]\n"
     ]
    }
   ],
   "source": [
    "print(wa_processed.take(1))"
   ]
  },
  {
   "cell_type": "markdown",
   "id": "42a3ba23",
   "metadata": {},
   "source": [
    "**Watch gyroscope**"
   ]
  },
  {
   "cell_type": "code",
   "execution_count": 10,
   "id": "f1d403cd",
   "metadata": {},
   "outputs": [
    {
     "name": "stdout",
     "output_type": "stream",
     "text": [
      "[(('c', 'lgwatch', 'null'), (-0.0031122214191367237, 0.01574602648442476, 0.018811255957697556, 1.7130154430471274, 0.8776247151651124, 1.0021970692411626, 17.910233, 5.9364624, 5.6636047, -15.238663, -5.51947, -10.028076))]\n"
     ]
    }
   ],
   "source": [
    "print(wg_processed.take(1))"
   ]
  },
  {
   "cell_type": "markdown",
   "id": "abd9ab4c",
   "metadata": {},
   "source": [
    "### Construcción del RDD final"
   ]
  },
  {
   "cell_type": "markdown",
   "id": "98a77161",
   "metadata": {},
   "source": [
    "Finalmente, unimos los RDD de los teléfonos por un lado y de los relojes por otro mediante join, y unimos ambos en un RDD final mediante union.  \n",
    "Como ejemplo, mostramos los primeros registros del RDD final, donde podemos observar la unión de todos los elementos."
   ]
  },
  {
   "cell_type": "code",
   "execution_count": 11,
   "id": "8b04338c",
   "metadata": {},
   "outputs": [
    {
     "name": "stdout",
     "output_type": "stream",
     "text": [
      "[(('i', 's3', 'bike'), ((-0.8305826346212585, 0.074882657116146, 9.51892129518975, 1.1528066129881929, 0.8627064202538209, 1.0888751804312171, 3.4859576, 5.2002063, 19.258959, -9.586383999999999, -3.7924154000000003, -1.6950948000000001), (0.009889294178583957, -0.005613697093895955, -0.007020121538478878, 0.24356565441931763, 0.22319712782799161, 0.21100458412821368, 1.1701124, 2.129171, 1.1294898000000002, -1.0491611, -1.5415184, -1.1890492))), (('i', 's3mini', 'sit'), ((4.7803812322584704, 0.615286979184887, 8.172919329285557, 0.05898355009577621, 0.09144798136573146, 0.03319988576359514, 4.996699, 2.3032220000000003, 9.615114, 3.1136593999999995, 0.10055647, 7.878121000000001), (-0.012646493707418594, -0.010443389742527556, -0.009518636978439566, 0.03379875702999631, 0.032931960966928533, 0.024685389389252455, 1.5765933, 1.7068782, 1.7303002, -3.2258923, -1.557075, -1.8464342))), (('b', 'nexus4', 'stairsup'), ((-3.7862716931892564, 0.050938464237275445, 9.161005535057651, 2.1697384223258593, 1.9273125494982117, 2.5102736492437914, 2.8648224, 9.17334, 24.567047, -16.818466, -11.066956, 1.8831023999999998), (0.16162353611344807, -0.037750299139945334, -0.39851143444880016, 0.7582106659264104, 0.5990585144943004, 0.7597714054407418, 2.1247406000000004, 2.8647156000000003, 2.4052124, -1.9394379000000002, -1.9845276, -3.9532776))), (('h', 's3mini', 'walk'), ((-5.772709938456024, 1.0674231041201885, 7.568963540559816, 2.1646087028945162, 2.1146319694111004, 2.5179744388601804, 0.44771573, 8.692149, 15.308526, -12.955026, -6.4463882, 3.0573955), (-0.022962031484325254, -0.001928311536461351, 0.004880449131526959, 0.5123221985821889, 0.71675477945564, 0.49177722556600495, 2.1684867999999997, 2.8984723, 2.7991729, -2.444183, -2.8984723, -2.3807485)))]\n"
     ]
    }
   ],
   "source": [
    "rdd = join_RDD(pa_processed, pg_processed, wa_processed, wg_processed)\n",
    "print(rdd.collect()[0:4])"
   ]
  }
 ],
 "metadata": {
  "kernelspec": {
   "display_name": "Python 3",
   "language": "python",
   "name": "python3"
  },
  "language_info": {
   "codemirror_mode": {
    "name": "ipython",
    "version": 3
   },
   "file_extension": ".py",
   "mimetype": "text/x-python",
   "name": "python",
   "nbconvert_exporter": "python",
   "pygments_lexer": "ipython3",
   "version": "3.6.9"
  }
 },
 "nbformat": 4,
 "nbformat_minor": 5
}
